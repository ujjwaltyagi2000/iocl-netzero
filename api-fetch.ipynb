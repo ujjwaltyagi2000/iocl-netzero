{
 "cells": [
  {
   "cell_type": "markdown",
   "metadata": {},
   "source": [
    "## Fetching data from <a href= \"data.gov.in\">data.gov.in</a>"
   ]
  },
  {
   "cell_type": "code",
   "execution_count": 2,
   "metadata": {},
   "outputs": [],
   "source": [
    "import requests\n",
    "import pandas as pd\n",
    "import numpy"
   ]
  },
  {
   "cell_type": "markdown",
   "metadata": {},
   "source": [
    "### Trying to fetch data 999 records at a time:"
   ]
  },
  {
   "cell_type": "code",
   "execution_count": 8,
   "metadata": {},
   "outputs": [],
   "source": [
    "offset = 0\n",
    "limit = 999\n",
    "url = f\"https://api.data.gov.in/resource/8d3b6596-b09e-4077-aebf-425193185a5b?api-key=579b464db66ec23bdd0000014d331dc47176456852b5edabe3c24089&format=csv&offset={offset}&limit={limit}\"\n",
    "df=pd.read_csv(url)\n",
    "df.to_csv('data1.csv')"
   ]
  },
  {
   "cell_type": "code",
   "execution_count": 10,
   "metadata": {},
   "outputs": [],
   "source": [
    "offset = 999\n",
    "limit = 999\n",
    "url = f\"https://api.data.gov.in/resource/8d3b6596-b09e-4077-aebf-425193185a5b?api-key=579b464db66ec23bdd0000014d331dc47176456852b5edabe3c24089&format=csv&offset={offset}&limit={limit}\"\n",
    "df2=pd.read_csv(url)\n",
    "df2.to_csv('data2.csv')"
   ]
  },
  {
   "cell_type": "code",
   "execution_count": 11,
   "metadata": {},
   "outputs": [
    {
     "name": "stdout",
     "output_type": "stream",
     "text": [
      "Printing the concatenated DataFrame\n",
      "      Month  Year                 OIL COMPANIES  Quantity (000 Metric Tonnes)  \\\n",
      "0       NaN  2023            IOCL-BARAUNI,BIHAR                        546.51   \n",
      "1       NaN  2023                    IOCL TOTAL                       6037.64   \n",
      "2       NaN  2023                    ONGC TOTAL                       1475.55   \n",
      "3       NaN  2023                     RIL TOTAL                       5355.74   \n",
      "4       NaN  2023   IOCL-MATHURA, UTTAR PRADESH                        833.52   \n",
      "...     ...   ...                           ...                           ...   \n",
      "1387    NaN  2021      BPCL-MUMBAI, MAHARASHTRA                       1376.00   \n",
      "1388    NaN  2021  ONGC-TATIPAKA,ANDHRA PRADESH                          8.00   \n",
      "1389    NaN  2021      MRPL-MANGALORE,KARNATAKA                       1361.00   \n",
      "1390    NaN  2021                    ONGC TOTAL                       1369.00   \n",
      "1391    NaN  2021                     RIL TOTAL                       4890.00   \n",
      "\n",
      "      last_updated  \n",
      "0              NaN  \n",
      "1              NaN  \n",
      "2              NaN  \n",
      "3              NaN  \n",
      "4              NaN  \n",
      "...            ...  \n",
      "1387           NaN  \n",
      "1388           NaN  \n",
      "1389           NaN  \n",
      "1390           NaN  \n",
      "1391           NaN  \n",
      "\n",
      "[1392 rows x 5 columns]\n"
     ]
    }
   ],
   "source": [
    "# Concatenate df2 at the end of df1\n",
    "result_df = pd.concat([df, df2], ignore_index=True)\n",
    "# Print the concatenated DataFrame\n",
    "print(\"Printing the concatenated DataFrame\")\n",
    "print(result_df)"
   ]
  },
  {
   "cell_type": "code",
   "execution_count": 12,
   "metadata": {},
   "outputs": [
    {
     "name": "stdout",
     "output_type": "stream",
     "text": [
      "Combined data exported to combined_data.csv\n"
     ]
    }
   ],
   "source": [
    "# Export df_combined to a CSV file\n",
    "result_df.to_csv('combined_data.csv')\n",
    "print(\"Combined data exported to combined_data.csv\")"
   ]
  },
  {
   "cell_type": "markdown",
   "metadata": {},
   "source": [
    "### Fetching entire data using an iterator"
   ]
  },
  {
   "cell_type": "code",
   "execution_count": 4,
   "metadata": {},
   "outputs": [
    {
     "data": {
      "text/html": [
       "<div>\n",
       "<style scoped>\n",
       "    .dataframe tbody tr th:only-of-type {\n",
       "        vertical-align: middle;\n",
       "    }\n",
       "\n",
       "    .dataframe tbody tr th {\n",
       "        vertical-align: top;\n",
       "    }\n",
       "\n",
       "    .dataframe thead th {\n",
       "        text-align: right;\n",
       "    }\n",
       "</style>\n",
       "<table border=\"1\" class=\"dataframe\">\n",
       "  <thead>\n",
       "    <tr style=\"text-align: right;\">\n",
       "      <th></th>\n",
       "      <th>Month</th>\n",
       "      <th>Year</th>\n",
       "      <th>OIL COMPANIES</th>\n",
       "      <th>Quantity (000 Metric Tonnes)</th>\n",
       "      <th>last_updated</th>\n",
       "    </tr>\n",
       "  </thead>\n",
       "  <tbody>\n",
       "    <tr>\n",
       "      <th>0</th>\n",
       "      <td>NaN</td>\n",
       "      <td>2023</td>\n",
       "      <td>IOCL-BARAUNI,BIHAR</td>\n",
       "      <td>546.51</td>\n",
       "      <td>NaN</td>\n",
       "    </tr>\n",
       "    <tr>\n",
       "      <th>1</th>\n",
       "      <td>NaN</td>\n",
       "      <td>2023</td>\n",
       "      <td>IOCL TOTAL</td>\n",
       "      <td>6037.64</td>\n",
       "      <td>NaN</td>\n",
       "    </tr>\n",
       "    <tr>\n",
       "      <th>2</th>\n",
       "      <td>NaN</td>\n",
       "      <td>2023</td>\n",
       "      <td>ONGC TOTAL</td>\n",
       "      <td>1475.55</td>\n",
       "      <td>NaN</td>\n",
       "    </tr>\n",
       "    <tr>\n",
       "      <th>3</th>\n",
       "      <td>NaN</td>\n",
       "      <td>2023</td>\n",
       "      <td>RIL TOTAL</td>\n",
       "      <td>5355.74</td>\n",
       "      <td>NaN</td>\n",
       "    </tr>\n",
       "    <tr>\n",
       "      <th>4</th>\n",
       "      <td>NaN</td>\n",
       "      <td>2023</td>\n",
       "      <td>IOCL-MATHURA, UTTAR PRADESH</td>\n",
       "      <td>833.52</td>\n",
       "      <td>NaN</td>\n",
       "    </tr>\n",
       "    <tr>\n",
       "      <th>...</th>\n",
       "      <td>...</td>\n",
       "      <td>...</td>\n",
       "      <td>...</td>\n",
       "      <td>...</td>\n",
       "      <td>...</td>\n",
       "    </tr>\n",
       "    <tr>\n",
       "      <th>1387</th>\n",
       "      <td>NaN</td>\n",
       "      <td>2021</td>\n",
       "      <td>BPCL-MUMBAI, MAHARASHTRA</td>\n",
       "      <td>1376.00</td>\n",
       "      <td>NaN</td>\n",
       "    </tr>\n",
       "    <tr>\n",
       "      <th>1388</th>\n",
       "      <td>NaN</td>\n",
       "      <td>2021</td>\n",
       "      <td>ONGC-TATIPAKA,ANDHRA PRADESH</td>\n",
       "      <td>8.00</td>\n",
       "      <td>NaN</td>\n",
       "    </tr>\n",
       "    <tr>\n",
       "      <th>1389</th>\n",
       "      <td>NaN</td>\n",
       "      <td>2021</td>\n",
       "      <td>MRPL-MANGALORE,KARNATAKA</td>\n",
       "      <td>1361.00</td>\n",
       "      <td>NaN</td>\n",
       "    </tr>\n",
       "    <tr>\n",
       "      <th>1390</th>\n",
       "      <td>NaN</td>\n",
       "      <td>2021</td>\n",
       "      <td>ONGC TOTAL</td>\n",
       "      <td>1369.00</td>\n",
       "      <td>NaN</td>\n",
       "    </tr>\n",
       "    <tr>\n",
       "      <th>1391</th>\n",
       "      <td>NaN</td>\n",
       "      <td>2021</td>\n",
       "      <td>RIL TOTAL</td>\n",
       "      <td>4890.00</td>\n",
       "      <td>NaN</td>\n",
       "    </tr>\n",
       "  </tbody>\n",
       "</table>\n",
       "<p>1392 rows × 5 columns</p>\n",
       "</div>"
      ],
      "text/plain": [
       "      Month  Year                 OIL COMPANIES  Quantity (000 Metric Tonnes)  \\\n",
       "0       NaN  2023            IOCL-BARAUNI,BIHAR                        546.51   \n",
       "1       NaN  2023                    IOCL TOTAL                       6037.64   \n",
       "2       NaN  2023                    ONGC TOTAL                       1475.55   \n",
       "3       NaN  2023                     RIL TOTAL                       5355.74   \n",
       "4       NaN  2023   IOCL-MATHURA, UTTAR PRADESH                        833.52   \n",
       "...     ...   ...                           ...                           ...   \n",
       "1387    NaN  2021      BPCL-MUMBAI, MAHARASHTRA                       1376.00   \n",
       "1388    NaN  2021  ONGC-TATIPAKA,ANDHRA PRADESH                          8.00   \n",
       "1389    NaN  2021      MRPL-MANGALORE,KARNATAKA                       1361.00   \n",
       "1390    NaN  2021                    ONGC TOTAL                       1369.00   \n",
       "1391    NaN  2021                     RIL TOTAL                       4890.00   \n",
       "\n",
       "      last_updated  \n",
       "0              NaN  \n",
       "1              NaN  \n",
       "2              NaN  \n",
       "3              NaN  \n",
       "4              NaN  \n",
       "...            ...  \n",
       "1387           NaN  \n",
       "1388           NaN  \n",
       "1389           NaN  \n",
       "1390           NaN  \n",
       "1391           NaN  \n",
       "\n",
       "[1392 rows x 5 columns]"
      ]
     },
     "execution_count": 4,
     "metadata": {},
     "output_type": "execute_result"
    }
   ],
   "source": [
    "import requests\n",
    "import pandas as pd\n",
    "\n",
    "offset = 0\n",
    "limit = 999\n",
    "api_key = \"579b464db66ec23bdd0000014d331dc47176456852b5edabe3c24089\"\n",
    "\n",
    "# Initialize an empty DataFrame to store the result\n",
    "result_df = pd.DataFrame()\n",
    "\n",
    "while True:\n",
    "    url = f\"https://api.data.gov.in/resource/8d3b6596-b09e-4077-aebf-425193185a5b?api-key={api_key}&format=csv&offset={offset}&limit={limit}\"\n",
    "    \n",
    "    response = requests.get(url)\n",
    "    \n",
    "    # Check if the response is successful and content length is greater than 0\n",
    "    if response.status_code == 200 and int(response.headers.get('Content-Length', 0)) > 0:\n",
    "        # Read data into a temporary DataFrame\n",
    "        temp_df = pd.read_csv(url)\n",
    "        \n",
    "        # Concatenate temporary DataFrame with result DataFrame\n",
    "        result_df = pd.concat([result_df, temp_df], ignore_index=True)\n",
    "        \n",
    "        # Increment offset for the next request\n",
    "        offset += limit\n",
    "    else:\n",
    "        # Break the loop if there is no more data to fetch\n",
    "        break\n",
    "\n",
    "# Print the resulting DataFrame\n",
    "result_df\n"
   ]
  },
  {
   "cell_type": "code",
   "execution_count": null,
   "metadata": {},
   "outputs": [],
   "source": [
    "result_df.to_csv('new_data.csv')"
   ]
  }
 ],
 "metadata": {
  "kernelspec": {
   "display_name": "data-science",
   "language": "python",
   "name": "python3"
  },
  "language_info": {
   "codemirror_mode": {
    "name": "ipython",
    "version": 3
   },
   "file_extension": ".py",
   "mimetype": "text/x-python",
   "name": "python",
   "nbconvert_exporter": "python",
   "pygments_lexer": "ipython3",
   "version": "3.12.0"
  }
 },
 "nbformat": 4,
 "nbformat_minor": 2
}
